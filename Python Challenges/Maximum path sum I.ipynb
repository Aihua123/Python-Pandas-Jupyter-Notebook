{
 "cells": [
  {
   "cell_type": "code",
   "execution_count": 186,
   "metadata": {},
   "outputs": [
    {
     "data": {
      "text/html": [
       "<div>\n",
       "<style scoped>\n",
       "    .dataframe tbody tr th:only-of-type {\n",
       "        vertical-align: middle;\n",
       "    }\n",
       "\n",
       "    .dataframe tbody tr th {\n",
       "        vertical-align: top;\n",
       "    }\n",
       "\n",
       "    .dataframe thead th {\n",
       "        text-align: right;\n",
       "    }\n",
       "</style>\n",
       "<table border=\"1\" class=\"dataframe\">\n",
       "  <thead>\n",
       "    <tr style=\"text-align: right;\">\n",
       "      <th></th>\n",
       "      <th>Column 1</th>\n",
       "      <th>Column 2</th>\n",
       "      <th>Column 3</th>\n",
       "      <th>Column 4</th>\n",
       "    </tr>\n",
       "  </thead>\n",
       "  <tbody>\n",
       "    <tr>\n",
       "      <th>0</th>\n",
       "      <td>3</td>\n",
       "      <td>0.0</td>\n",
       "      <td>0.0</td>\n",
       "      <td>0.0</td>\n",
       "    </tr>\n",
       "    <tr>\n",
       "      <th>1</th>\n",
       "      <td>7</td>\n",
       "      <td>4.0</td>\n",
       "      <td>0.0</td>\n",
       "      <td>0.0</td>\n",
       "    </tr>\n",
       "    <tr>\n",
       "      <th>2</th>\n",
       "      <td>2</td>\n",
       "      <td>4.0</td>\n",
       "      <td>6.0</td>\n",
       "      <td>0.0</td>\n",
       "    </tr>\n",
       "    <tr>\n",
       "      <th>3</th>\n",
       "      <td>8</td>\n",
       "      <td>5.0</td>\n",
       "      <td>9.0</td>\n",
       "      <td>3.0</td>\n",
       "    </tr>\n",
       "  </tbody>\n",
       "</table>\n",
       "</div>"
      ],
      "text/plain": [
       "   Column 1  Column 2  Column 3  Column 4\n",
       "0         3       0.0       0.0       0.0\n",
       "1         7       4.0       0.0       0.0\n",
       "2         2       4.0       6.0       0.0\n",
       "3         8       5.0       9.0       3.0"
      ]
     },
     "execution_count": 186,
     "metadata": {},
     "output_type": "execute_result"
    }
   ],
   "source": [
    "import pandas as pd\n",
    "\n",
    "file_to_load = \"Challenge -Path.csv\"\n",
    "df = pd.read_csv(file_to_load)\n",
    "df.fillna(0,axis=1,inplace=True)\n",
    "df"
   ]
  },
  {
   "cell_type": "code",
   "execution_count": 187,
   "metadata": {},
   "outputs": [],
   "source": [
    "# compare two adjacent values in a row to get the higher value, from bottom to top;\n",
    "# add each of the higher value to each of the value in the previous row;\n",
    "# drop last two rows and last column then add the new added-up values to the last row of the df:\n",
    "\n",
    "\n",
    "index = 3\n",
    "row = 0\n",
    "num = 3\n",
    "\n",
    "\n",
    "def find_high_val(i):\n",
    "    \n",
    "    val_list = []\n",
    "\n",
    "    for row in range(num):\n",
    "        \n",
    "        if df.iloc[index,row] - df.iloc[index,row + 1] >= 0:\n",
    "            val_list.append(df.iloc[index,row] + df.iloc[index -1,row])\n",
    "            row +=1\n",
    "\n",
    "        else:\n",
    "            val_list.append(df.iloc[index,row + 1] + df.iloc[index -1,row])\n",
    "            row +=1\n",
    "\n",
    "    df.drop([index-1,index],inplace=True)\n",
    "    df.drop(df.columns[-1], axis=1, inplace=True)\n",
    "    df.loc[index-1]= val_list\n",
    "    print(val_list)\n",
    "    "
   ]
  },
  {
   "cell_type": "code",
   "execution_count": 188,
   "metadata": {},
   "outputs": [
    {
     "name": "stdout",
     "output_type": "stream",
     "text": [
      "[10, 13.0, 15.0]\n"
     ]
    }
   ],
   "source": [
    "# run the fuction three times (becaue we have four rows) to get the maximum path sum;\n",
    "# I would like to write a function to run the above function three times but my code doest work, see below last line of code\n",
    "find_high_val(df.iloc[-1])\n"
   ]
  },
  {
   "cell_type": "code",
   "execution_count": 189,
   "metadata": {},
   "outputs": [
    {
     "name": "stdout",
     "output_type": "stream",
     "text": [
      "[20.0, 19.0]\n"
     ]
    }
   ],
   "source": [
    "index = 2\n",
    "num = 2\n",
    "\n",
    "find_high_val(df.iloc[-1])"
   ]
  },
  {
   "cell_type": "code",
   "execution_count": 190,
   "metadata": {},
   "outputs": [
    {
     "name": "stdout",
     "output_type": "stream",
     "text": [
      "[23.0]\n"
     ]
    }
   ],
   "source": [
    "index = 1\n",
    "num = 1\n",
    "\n",
    "find_high_val(df.iloc[-1])"
   ]
  },
  {
   "cell_type": "code",
   "execution_count": 191,
   "metadata": {},
   "outputs": [],
   "source": [
    "\n",
    "# My code doesn't work and I don't understand why, the error I got:  IndexError: single positional indexer is out-of-bounds\n",
    "\n",
    "\n",
    "# def run_function(i):\n",
    "#     index = 3\n",
    "#     num = 3\n",
    "#     row = 0\n",
    "#     for x in range(1):\n",
    "#         find_high_val(i)\n",
    "#         index = index - 1\n",
    "#         num = num -1\n",
    "#         x +=1\n",
    "#     print(val_list)\n",
    "    \n",
    "# run_function(df.iloc[-1])\n",
    "\n"
   ]
  },
  {
   "cell_type": "code",
   "execution_count": null,
   "metadata": {},
   "outputs": [],
   "source": []
  }
 ],
 "metadata": {
  "kernelspec": {
   "display_name": "Python 3",
   "language": "python",
   "name": "python3"
  },
  "language_info": {
   "codemirror_mode": {
    "name": "ipython",
    "version": 3
   },
   "file_extension": ".py",
   "mimetype": "text/x-python",
   "name": "python",
   "nbconvert_exporter": "python",
   "pygments_lexer": "ipython3",
   "version": "3.7.0"
  }
 },
 "nbformat": 4,
 "nbformat_minor": 2
}
